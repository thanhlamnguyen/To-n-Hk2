{
  "nbformat": 4,
  "nbformat_minor": 0,
  "metadata": {
    "colab": {
      "name": "kiem_dinh_thong_ke.ipynb",
      "provenance": [],
      "authorship_tag": "ABX9TyNmgfjrZVdoHTF3WYvfXVFV",
      "include_colab_link": true
    },
    "kernelspec": {
      "name": "python3",
      "display_name": "Python 3"
    },
    "language_info": {
      "name": "python"
    }
  },
  "cells": [
    {
      "cell_type": "markdown",
      "metadata": {
        "id": "view-in-github",
        "colab_type": "text"
      },
      "source": [
        "<a href=\"https://colab.research.google.com/github/thanhlamnguyen/To-n-Hk2/blob/main/kiem_dinh_thong_ke.ipynb\" target=\"_parent\"><img src=\"https://colab.research.google.com/assets/colab-badge.svg\" alt=\"Open In Colab\"/></a>"
      ]
    },
    {
      "cell_type": "code",
      "metadata": {
        "colab": {
          "base_uri": "https://localhost:8080/"
        },
        "id": "qXDK2ow36k49",
        "outputId": "cde5fe1c-5ff4-426d-a7ab-9b96890f8c64"
      },
      "source": [
        "import pandas as pd\n",
        "import numpy as np\n",
        "import seaborn as sns\n",
        "import statsmodels.api as sm\n",
        "from scipy.stats import shapiro\n",
        "from scipy.stats import kstest\n",
        "from scipy import stats"
      ],
      "execution_count": 1,
      "outputs": [
        {
          "output_type": "stream",
          "text": [
            "/usr/local/lib/python3.7/dist-packages/statsmodels/tools/_testing.py:19: FutureWarning: pandas.util.testing is deprecated. Use the functions in the public API at pandas.testing instead.\n",
            "  import pandas.util.testing as tm\n"
          ],
          "name": "stderr"
        }
      ]
    },
    {
      "cell_type": "code",
      "metadata": {
        "colab": {
          "base_uri": "https://localhost:8080/",
          "height": 195
        },
        "id": "L02sZAeo6q6x",
        "outputId": "2059d476-d71b-4698-f5e0-b2b7ae899c87"
      },
      "source": [
        "df = pd.read_csv('data.csv')\n",
        "df.head()"
      ],
      "execution_count": 6,
      "outputs": [
        {
          "output_type": "execute_result",
          "data": {
            "text/html": [
              "<div>\n",
              "<style scoped>\n",
              "    .dataframe tbody tr th:only-of-type {\n",
              "        vertical-align: middle;\n",
              "    }\n",
              "\n",
              "    .dataframe tbody tr th {\n",
              "        vertical-align: top;\n",
              "    }\n",
              "\n",
              "    .dataframe thead th {\n",
              "        text-align: right;\n",
              "    }\n",
              "</style>\n",
              "<table border=\"1\" class=\"dataframe\">\n",
              "  <thead>\n",
              "    <tr style=\"text-align: right;\">\n",
              "      <th></th>\n",
              "      <th>Screen Size</th>\n",
              "      <th>Weight</th>\n",
              "      <th>Brightness</th>\n",
              "    </tr>\n",
              "  </thead>\n",
              "  <tbody>\n",
              "    <tr>\n",
              "      <th>0</th>\n",
              "      <td>10.006692</td>\n",
              "      <td>29.313384</td>\n",
              "      <td>19.825988</td>\n",
              "    </tr>\n",
              "    <tr>\n",
              "      <th>1</th>\n",
              "      <td>10.081624</td>\n",
              "      <td>29.463248</td>\n",
              "      <td>19.993238</td>\n",
              "    </tr>\n",
              "    <tr>\n",
              "      <th>2</th>\n",
              "      <td>10.072873</td>\n",
              "      <td>29.445746</td>\n",
              "      <td>19.973641</td>\n",
              "    </tr>\n",
              "    <tr>\n",
              "      <th>3</th>\n",
              "      <td>9.954496</td>\n",
              "      <td>29.208992</td>\n",
              "      <td>19.710221</td>\n",
              "    </tr>\n",
              "    <tr>\n",
              "      <th>4</th>\n",
              "      <td>9.994093</td>\n",
              "      <td>29.288185</td>\n",
              "      <td>19.797988</td>\n",
              "    </tr>\n",
              "  </tbody>\n",
              "</table>\n",
              "</div>"
            ],
            "text/plain": [
              "   Screen Size     Weight  Brightness\n",
              "0    10.006692  29.313384   19.825988\n",
              "1    10.081624  29.463248   19.993238\n",
              "2    10.072873  29.445746   19.973641\n",
              "3     9.954496  29.208992   19.710221\n",
              "4     9.994093  29.288185   19.797988"
            ]
          },
          "metadata": {
            "tags": []
          },
          "execution_count": 6
        }
      ]
    },
    {
      "cell_type": "code",
      "metadata": {
        "id": "FDvmq8dj7BYA"
      },
      "source": [
        "class ProjectThree:\n",
        "    def __init__(self,data):\n",
        "        self.data = data\n",
        "        self.data_chuan_hoa = np.array(data)\n",
        "        self.data_chuan_hoa = (self.data_chuan_hoa - np.mean(self.data_chuan_hoa))/np.std(self.data_chuan_hoa)\n",
        "    \n",
        "    def dist(self):\n",
        "        sns.distplot(self.data)\n",
        "\n",
        "    def qq_plot(self):\n",
        "        sm.qqplot(self.data_chuan_hoa, line='45')\n",
        "    \n",
        "    def shapiro_test(self):\n",
        "        print('Shapiro:')\n",
        "        pvalue_s = shapiro(self.data)[1]\n",
        "        if pvalue_s > 0.05:\n",
        "            print('\\tMẫu tuân theo phân phối chuẩn')\n",
        "        else:\n",
        "            print('\\tMẫu không tuân theo phân phối chuẩn')\n",
        "    \n",
        "    def ks_test(self):\n",
        "        print('Kolmogorov:')\n",
        "        pvalue_k =  kstest(rvs=self.data, cdf='norm', args=(np.mean(self.data), np.std(self.data)))[1]\n",
        "        if pvalue_k > 0.05:\n",
        "            print('\\tMẫu tuân theo phân phối chuẩn')\n",
        "        else:\n",
        "            print('\\tMẫu không tuân theo phân phối chuẩn')"
      ],
      "execution_count": 4,
      "outputs": []
    },
    {
      "cell_type": "code",
      "metadata": {
        "id": "vOnEaQbv7EuX"
      },
      "source": [
        "scr_size = np.array(df['Screen Size'])\n",
        "weight = df['Weight']\n",
        "bright = df['Brightness']"
      ],
      "execution_count": 7,
      "outputs": []
    },
    {
      "cell_type": "code",
      "metadata": {
        "colab": {
          "base_uri": "https://localhost:8080/",
          "height": 335
        },
        "id": "1UTpuKWP7TdQ",
        "outputId": "1779212c-c6cb-494e-f11b-908b1f38b2e0"
      },
      "source": [
        "sns.distplot(scr_size)"
      ],
      "execution_count": 8,
      "outputs": [
        {
          "output_type": "stream",
          "text": [
            "/usr/local/lib/python3.7/dist-packages/seaborn/distributions.py:2557: FutureWarning: `distplot` is a deprecated function and will be removed in a future version. Please adapt your code to use either `displot` (a figure-level function with similar flexibility) or `histplot` (an axes-level function for histograms).\n",
            "  warnings.warn(msg, FutureWarning)\n"
          ],
          "name": "stderr"
        },
        {
          "output_type": "execute_result",
          "data": {
            "text/plain": [
              "<matplotlib.axes._subplots.AxesSubplot at 0x7fe96c584090>"
            ]
          },
          "metadata": {
            "tags": []
          },
          "execution_count": 8
        },
        {
          "output_type": "display_data",
          "data": {
            "image/png": "[encoded data removed]",
            "text/plain": [
              "<Figure size 432x288 with 1 Axes>"
            ]
          },
          "metadata": {
            "tags": [],
            "needs_background": "light"
          }
        }
      ]
    },
    {
      "cell_type": "code",
      "metadata": {
        "colab": {
          "base_uri": "https://localhost:8080/",
          "height": 296
        },
        "id": "t7qvWtjj7WUA",
        "outputId": "cc7604f6-1c2a-4a5d-bba7-6bcbe10e717c"
      },
      "source": [
        "scr_size_chuan_hoa = np.array(scr_size)\n",
        "scr_size_chuan_hoa = (scr_size_chuan_hoa - np.mean(scr_size_chuan_hoa))/np.std(scr_size_chuan_hoa)\n",
        "print(sm.qqplot(scr_size_chuan_hoa,line = '45'))"
      ],
      "execution_count": 10,
      "outputs": [
        {
          "output_type": "stream",
          "text": [
            "Figure(432x288)\n"
          ],
          "name": "stdout"
        },
        {
          "output_type": "display_data",
          "data": {
            "image/png": "[encoded data removed]",
            "text/plain": [
              "<Figure size 432x288 with 1 Axes>"
            ]
          },
          "metadata": {
            "tags": [],
            "needs_background": "light"
          }
        }
      ]
    },
    {
      "cell_type": "code",
      "metadata": {
        "colab": {
          "base_uri": "https://localhost:8080/"
        },
        "id": "xLuUj6gF7c1P",
        "outputId": "b517cc2a-79a9-47ab-ce97-8c206943a316"
      },
      "source": [
        "pvalue_s = shapiro(scr_size)[1]\n",
        "if pvalue_s > 0.05:\n",
        "    print(f'Mẫu tuân theo phân phối chuẩn')\n",
        "else:\n",
        "    print(f'Mẫu không tuân theo phân phối chuẩn')"
      ],
      "execution_count": 11,
      "outputs": [
        {
          "output_type": "stream",
          "text": [
            "Mẫu tuân theo phân phối chuẩn\n"
          ],
          "name": "stdout"
        }
      ]
    },
    {
      "cell_type": "code",
      "metadata": {
        "colab": {
          "base_uri": "https://localhost:8080/"
        },
        "id": "LJwYvjxH7fnY",
        "outputId": "b932e7e5-a045-4d5c-e816-2171e0e85651"
      },
      "source": [
        "pvalue_k = kstest(rvs=scr_size, cdf='norm', args=(np.mean(scr_size), np.std(scr_size)))[1]\n",
        "if pvalue_k > 0.05:\n",
        "    print(f'Mẫu tuân theo phân phối chuẩn')\n",
        "else:\n",
        "    print(f'Mẫu không tuân theo phân phối chuẩn')"
      ],
      "execution_count": 12,
      "outputs": [
        {
          "output_type": "stream",
          "text": [
            "Mẫu tuân theo phân phối chuẩn\n"
          ],
          "name": "stdout"
        }
      ]
    },
    {
      "cell_type": "code",
      "metadata": {
        "colab": {
          "base_uri": "https://localhost:8080/"
        },
        "id": "q8LlStO07imQ",
        "outputId": "3576e6d1-b91d-4f04-8d38-e5a17aa979bb"
      },
      "source": [
        "pl = stats.levene(scr_size, weight, bright)[1]\n",
        "if pl > 0.05:\n",
        "    print('Phương sai bằng nhau')\n",
        "else:\n",
        "    print('Có ít nhất một cặp Phương sai không bằng nhau')"
      ],
      "execution_count": 13,
      "outputs": [
        {
          "output_type": "stream",
          "text": [
            "Có ít nhất một cặp Phương sai không bằng nhau\n"
          ],
          "name": "stdout"
        }
      ]
    },
    {
      "cell_type": "code",
      "metadata": {
        "colab": {
          "base_uri": "https://localhost:8080/"
        },
        "id": "3dD4gnGS7lvg",
        "outputId": "6c2d357c-251a-4d31-8c72-cdd9efb3e732"
      },
      "source": [
        "pb = stats.bartlett(scr_size, weight,bright)[1]\n",
        "if pl > 0.05:\n",
        "    print('Phương sai bằng nhau')\n",
        "else:\n",
        "    print('Có ít nhất một cặp Phương sai không bằng nhau')"
      ],
      "execution_count": 14,
      "outputs": [
        {
          "output_type": "stream",
          "text": [
            "Có ít nhất một cặp Phương sai không bằng nhau\n"
          ],
          "name": "stdout"
        }
      ]
    },
    {
      "cell_type": "code",
      "metadata": {
        "colab": {
          "base_uri": "https://localhost:8080/",
          "height": 594
        },
        "id": "wRrFShDm7oFX",
        "outputId": "456b5ddb-d2cf-4e44-f233-eb3765836e63"
      },
      "source": [
        "s2 = ProjectThree(weight)\n",
        "s2.dist()\n",
        "s2.qq_plot()"
      ],
      "execution_count": 16,
      "outputs": [
        {
          "output_type": "stream",
          "text": [
            "/usr/local/lib/python3.7/dist-packages/seaborn/distributions.py:2557: FutureWarning: `distplot` is a deprecated function and will be removed in a future version. Please adapt your code to use either `displot` (a figure-level function with similar flexibility) or `histplot` (an axes-level function for histograms).\n",
            "  warnings.warn(msg, FutureWarning)\n"
          ],
          "name": "stderr"
        },
        {
          "output_type": "display_data",
          "data": {
            "image/png": "[encoded data removed]",
            "text/plain": [
              "<Figure size 432x288 with 1 Axes>"
            ]
          },
          "metadata": {
            "tags": [],
            "needs_background": "light"
          }
        },
        {
          "output_type": "display_data",
          "data": {
            "image/png": "[encoded data removed]",
            "text/plain": [
              "<Figure size 432x288 with 1 Axes>"
            ]
          },
          "metadata": {
            "tags": [],
            "needs_background": "light"
          }
        }
      ]
    },
    {
      "cell_type": "code",
      "metadata": {
        "colab": {
          "base_uri": "https://localhost:8080/"
        },
        "id": "mXmoyTFb7xLQ",
        "outputId": "19f9866c-d1cf-403e-f22b-db150ae21d22"
      },
      "source": [
        "s2.shapiro_test()\n",
        "s2.ks_test()"
      ],
      "execution_count": 17,
      "outputs": [
        {
          "output_type": "stream",
          "text": [
            "Shapiro:\n",
            "\tMẫu tuân theo phân phối chuẩn\n",
            "Kolmogorov:\n",
            "\tMẫu tuân theo phân phối chuẩn\n"
          ],
          "name": "stdout"
        }
      ]
    },
    {
      "cell_type": "code",
      "metadata": {
        "id": "ZncT2ewf722v"
      },
      "source": [
        "s3 = ProjectThree(bright)"
      ],
      "execution_count": 18,
      "outputs": []
    },
    {
      "cell_type": "code",
      "metadata": {
        "colab": {
          "base_uri": "https://localhost:8080/",
          "height": 594
        },
        "id": "VhWAeKfv75Qw",
        "outputId": "53e8beee-e8a6-458a-964c-1bdbafb298dc"
      },
      "source": [
        "s3.dist()\n",
        "s3.qq_plot()"
      ],
      "execution_count": 19,
      "outputs": [
        {
          "output_type": "stream",
          "text": [
            "/usr/local/lib/python3.7/dist-packages/seaborn/distributions.py:2557: FutureWarning: `distplot` is a deprecated function and will be removed in a future version. Please adapt your code to use either `displot` (a figure-level function with similar flexibility) or `histplot` (an axes-level function for histograms).\n",
            "  warnings.warn(msg, FutureWarning)\n"
          ],
          "name": "stderr"
        },
        {
          "output_type": "display_data",
          "data": {
            "image/png": "[encoded data removed]",
            "text/plain": [
              "<Figure size 432x288 with 1 Axes>"
            ]
          },
          "metadata": {
            "tags": [],
            "needs_background": "light"
          }
        },
        {
          "output_type": "display_data",
          "data": {
            "image/png": "[encoded data removed]",
            "text/plain": [
              "<Figure size 432x288 with 1 Axes>"
            ]
          },
          "metadata": {
            "tags": [],
            "needs_background": "light"
          }
        }
      ]
    },
    {
      "cell_type": "code",
      "metadata": {
        "colab": {
          "base_uri": "https://localhost:8080/"
        },
        "id": "dZewbjq577rn",
        "outputId": "f9692db2-a866-4d63-c429-ae6b58207fd1"
      },
      "source": [
        "s3.shapiro_test()\n",
        "s3.ks_test()"
      ],
      "execution_count": 20,
      "outputs": [
        {
          "output_type": "stream",
          "text": [
            "Shapiro:\n",
            "\tMẫu tuân theo phân phối chuẩn\n",
            "Kolmogorov:\n",
            "\tMẫu tuân theo phân phối chuẩn\n"
          ],
          "name": "stdout"
        }
      ]
    }
  ]
}